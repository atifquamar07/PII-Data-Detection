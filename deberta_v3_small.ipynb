{
 "cells": [
  {
   "cell_type": "code",
   "execution_count": 1,
   "id": "ed869c7d",
   "metadata": {
    "_cell_guid": "b1076dfc-b9ad-4769-8c92-a6c4dae69d19",
    "_uuid": "8f2839f25d086af736a60e9eeb907d3b93b6e0e5",
    "execution": {
     "iopub.execute_input": "2024-04-16T19:54:56.573930Z",
     "iopub.status.busy": "2024-04-16T19:54:56.573628Z",
     "iopub.status.idle": "2024-04-16T19:55:40.825400Z",
     "shell.execute_reply": "2024-04-16T19:55:40.824325Z"
    },
    "papermill": {
     "duration": 44.260935,
     "end_time": "2024-04-16T19:55:40.827974",
     "exception": false,
     "start_time": "2024-04-16T19:54:56.567039",
     "status": "completed"
    },
    "tags": []
   },
   "outputs": [
    {
     "name": "stdout",
     "output_type": "stream",
     "text": [
      "\u001b[33mWARNING: Requirement '/kaggle/input/kerasv3-lib-ds/tensorflow-2.15.0.post1-cp310-cp310-manylinux_2_17_x86_64.manylinux2014_x86_64.whl' looks like a filename, but the file does not exist\u001b[0m\u001b[33m\r\n",
      "\u001b[0m\u001b[31mERROR: Could not install packages due to an OSError: [Errno 2] No such file or directory: '/kaggle/input/kerasv3-lib-ds/tensorflow-2.15.0.post1-cp310-cp310-manylinux_2_17_x86_64.manylinux2014_x86_64.whl'\r\n",
      "\u001b[0m\u001b[31m\r\n",
      "\u001b[0m\u001b[33mWARNING: Requirement '/kaggle/input/kerasv3-lib-ds/keras-3.0.4-py3-none-any.whl' looks like a filename, but the file does not exist\u001b[0m\u001b[33m\r\n",
      "\u001b[0m\u001b[31mERROR: Could not install packages due to an OSError: [Errno 2] No such file or directory: '/kaggle/input/kerasv3-lib-ds/keras-3.0.4-py3-none-any.whl'\r\n",
      "\u001b[0m\u001b[31m\r\n",
      "\u001b[0m"
     ]
    }
   ],
   "source": [
    "!pip install -q /kaggle/input/kerasv3-lib-ds/tensorflow-2.15.0.post1-cp310-cp310-manylinux_2_17_x86_64.manylinux2014_x86_64.whl --no-deps\n",
    "!pip install -q /kaggle/input/kerasv3-lib-ds/keras-3.0.4-py3-none-any.whl --no-deps"
   ]
  },
  {
   "cell_type": "code",
   "execution_count": 2,
   "id": "b0883c0e",
   "metadata": {
    "execution": {
     "iopub.execute_input": "2024-04-16T19:55:40.840932Z",
     "iopub.status.busy": "2024-04-16T19:55:40.840599Z",
     "iopub.status.idle": "2024-04-16T19:55:57.514019Z",
     "shell.execute_reply": "2024-04-16T19:55:57.513101Z"
    },
    "papermill": {
     "duration": 16.682547,
     "end_time": "2024-04-16T19:55:57.516473",
     "exception": false,
     "start_time": "2024-04-16T19:55:40.833926",
     "status": "completed"
    },
    "tags": []
   },
   "outputs": [
    {
     "name": "stderr",
     "output_type": "stream",
     "text": [
      "2024-04-16 19:55:46.084431: E external/local_xla/xla/stream_executor/cuda/cuda_dnn.cc:9261] Unable to register cuDNN factory: Attempting to register factory for plugin cuDNN when one has already been registered\n",
      "2024-04-16 19:55:46.084567: E external/local_xla/xla/stream_executor/cuda/cuda_fft.cc:607] Unable to register cuFFT factory: Attempting to register factory for plugin cuFFT when one has already been registered\n",
      "2024-04-16 19:55:46.233058: E external/local_xla/xla/stream_executor/cuda/cuda_blas.cc:1515] Unable to register cuBLAS factory: Attempting to register factory for plugin cuBLAS when one has already been registered\n"
     ]
    }
   ],
   "source": [
    "import os\n",
    "os.environ[\"KERAS_BACKEND\"] = \"jax\" # # you can also use tensorflow or torch\n",
    "\n",
    "import keras\n",
    "import keras_nlp\n",
    "from keras import ops\n",
    "import tensorflow as tf\n",
    "\n",
    "import json\n",
    "import numpy as np\n",
    "import pandas as pd\n",
    "from tqdm.notebook import tqdm\n",
    "from sklearn.model_selection import train_test_split\n",
    "\n",
    "import plotly.graph_objs as go\n",
    "import plotly.express as px"
   ]
  },
  {
   "cell_type": "code",
   "execution_count": 3,
   "id": "8e7aeeaa",
   "metadata": {
    "execution": {
     "iopub.execute_input": "2024-04-16T19:55:57.529670Z",
     "iopub.status.busy": "2024-04-16T19:55:57.529068Z",
     "iopub.status.idle": "2024-04-16T19:55:57.536030Z",
     "shell.execute_reply": "2024-04-16T19:55:57.535280Z"
    },
    "papermill": {
     "duration": 0.015431,
     "end_time": "2024-04-16T19:55:57.537908",
     "exception": false,
     "start_time": "2024-04-16T19:55:57.522477",
     "status": "completed"
    },
    "tags": []
   },
   "outputs": [],
   "source": [
    "class CFG:\n",
    "    seed = 42\n",
    "    preset = \"deberta_v3_small_en\"\n",
    "    train_seq_len = 1024\n",
    "    train_batch_size = 16\n",
    "    infer_seq_len = 2000\n",
    "    infer_batch_size = 4\n",
    "    epochs = 6\n",
    "    lr_mode = \"exp\"\n",
    "    \n",
    "    labels = [\n",
    "        \"B-EMAIL\", \"B-ID_NUM\", \"B-NAME_STUDENT\", \"B-PHONE_NUM\",\n",
    "        \"B-STREET_ADDRESS\", \"B-URL_PERSONAL\", \"B-USERNAME\",\n",
    "        \"I-ID_NUM\", \"I-NAME_STUDENT\", \"I-PHONE_NUM\",\n",
    "        \"I-STREET_ADDRESS\", \"I-URL_PERSONAL\", \"O\"\n",
    "    ]\n",
    "    id2label = {index: label for index, label in enumerate(labels)}\n",
    "    label2id = {label: index for index, label in enumerate(labels)}\n",
    "    num_labels = len(labels)\n",
    "    \n",
    "    train = False"
   ]
  },
  {
   "cell_type": "code",
   "execution_count": 4,
   "id": "435e4712",
   "metadata": {
    "execution": {
     "iopub.execute_input": "2024-04-16T19:55:57.549744Z",
     "iopub.status.busy": "2024-04-16T19:55:57.549455Z",
     "iopub.status.idle": "2024-04-16T19:55:58.160980Z",
     "shell.execute_reply": "2024-04-16T19:55:58.160115Z"
    },
    "papermill": {
     "duration": 0.619871,
     "end_time": "2024-04-16T19:55:58.163218",
     "exception": false,
     "start_time": "2024-04-16T19:55:57.543347",
     "status": "completed"
    },
    "tags": []
   },
   "outputs": [
    {
     "name": "stdout",
     "output_type": "stream",
     "text": [
      "Device: ['gpu:0', 'gpu:1']\n"
     ]
    }
   ],
   "source": [
    "devices = keras.distribution.list_devices()\n",
    "print(\"Device:\", devices)\n",
    "\n",
    "if len(devices) > 1:\n",
    "    data_parallel = keras.distribution.DataParallel(devices=devices)\n",
    "    keras.distribution.set_distribution(data_parallel)"
   ]
  },
  {
   "cell_type": "code",
   "execution_count": 5,
   "id": "7463fa90",
   "metadata": {
    "execution": {
     "iopub.execute_input": "2024-04-16T19:55:58.176053Z",
     "iopub.status.busy": "2024-04-16T19:55:58.175744Z",
     "iopub.status.idle": "2024-04-16T19:55:58.179731Z",
     "shell.execute_reply": "2024-04-16T19:55:58.178871Z"
    },
    "papermill": {
     "duration": 0.012337,
     "end_time": "2024-04-16T19:55:58.181651",
     "exception": false,
     "start_time": "2024-04-16T19:55:58.169314",
     "status": "completed"
    },
    "tags": []
   },
   "outputs": [],
   "source": [
    "BASE_PATH = \"/kaggle/input/pii-detection-removal-from-educational-data\""
   ]
  },
  {
   "cell_type": "code",
   "execution_count": 6,
   "id": "608b53b5",
   "metadata": {
    "execution": {
     "iopub.execute_input": "2024-04-16T19:55:58.193998Z",
     "iopub.status.busy": "2024-04-16T19:55:58.193408Z",
     "iopub.status.idle": "2024-04-16T19:56:04.202233Z",
     "shell.execute_reply": "2024-04-16T19:56:04.201078Z"
    },
    "papermill": {
     "duration": 6.01735,
     "end_time": "2024-04-16T19:56:04.204359",
     "exception": false,
     "start_time": "2024-04-16T19:55:58.187009",
     "status": "completed"
    },
    "tags": []
   },
   "outputs": [
    {
     "data": {
      "application/vnd.jupyter.widget-view+json": {
       "model_id": "a0deb897e9354e929242241d801012d1",
       "version_major": 2,
       "version_minor": 0
      },
      "text/plain": [
       "  0%|          | 0/6807 [00:00<?, ?it/s]"
      ]
     },
     "metadata": {},
     "output_type": "display_data"
    }
   ],
   "source": [
    "data = json.load(open(f\"{BASE_PATH}/train.json\"))\n",
    "\n",
    "words = np.empty(len(data), dtype=object)\n",
    "labels = np.empty(len(data), dtype=object)\n",
    "\n",
    "for i, x in tqdm(enumerate(data), total=len(data)):\n",
    "    words[i] = np.array(x[\"tokens\"])\n",
    "    labels[i] = np.array([CFG.label2id[label] for label in x[\"labels\"]])"
   ]
  },
  {
   "cell_type": "code",
   "execution_count": 7,
   "id": "b33640dc",
   "metadata": {
    "execution": {
     "iopub.execute_input": "2024-04-16T19:56:04.217864Z",
     "iopub.status.busy": "2024-04-16T19:56:04.217449Z",
     "iopub.status.idle": "2024-04-16T19:56:05.350412Z",
     "shell.execute_reply": "2024-04-16T19:56:05.349580Z"
    },
    "papermill": {
     "duration": 1.142291,
     "end_time": "2024-04-16T19:56:05.352906",
     "exception": false,
     "start_time": "2024-04-16T19:56:04.210615",
     "status": "completed"
    },
    "tags": []
   },
   "outputs": [],
   "source": [
    "all_labels = np.array([x for label in labels for x in label])\n",
    "unique_labels, label_counts = np.unique(all_labels, return_counts=True)"
   ]
  },
  {
   "cell_type": "code",
   "execution_count": 8,
   "id": "26103db1",
   "metadata": {
    "execution": {
     "iopub.execute_input": "2024-04-16T19:56:05.366739Z",
     "iopub.status.busy": "2024-04-16T19:56:05.366411Z",
     "iopub.status.idle": "2024-04-16T19:56:08.287693Z",
     "shell.execute_reply": "2024-04-16T19:56:08.286682Z"
    },
    "papermill": {
     "duration": 2.930852,
     "end_time": "2024-04-16T19:56:08.290173",
     "exception": false,
     "start_time": "2024-04-16T19:56:05.359321",
     "status": "completed"
    },
    "tags": []
   },
   "outputs": [
    {
     "name": "stderr",
     "output_type": "stream",
     "text": [
      "Attaching 'tokenizer.json' from model 'keras/deberta_v3/keras/deberta_v3_small_en/2' to your Kaggle notebook...\n",
      "Attaching 'tokenizer.json' from model 'keras/deberta_v3/keras/deberta_v3_small_en/2' to your Kaggle notebook...\n",
      "Attaching 'assets/tokenizer/vocabulary.spm' from model 'keras/deberta_v3/keras/deberta_v3_small_en/2' to your Kaggle notebook...\n"
     ]
    }
   ],
   "source": [
    "train_words, valid_words, train_labels, valid_labels = train_test_split(\n",
    "    words, labels, test_size=0.2, random_state=CFG.seed\n",
    ")\n",
    "\n",
    "tokenizer = keras_nlp.models.DebertaV3Tokenizer.from_preset(\n",
    "    CFG.preset,\n",
    ")\n",
    "\n",
    "packer = keras_nlp.layers.MultiSegmentPacker(\n",
    "    start_value=tokenizer.cls_token_id,\n",
    "    end_value=tokenizer.sep_token_id,\n",
    "    sequence_length=10,\n",
    ")\n",
    "\n",
    "sample_words = words[0][:5]\n",
    "sample_tokens_int = [\n",
    "    token.tolist() for word in sample_words for token in tokenizer(word)\n",
    "]\n",
    "sample_tokens_str = [tokenizer.id_to_token(token) for token in sample_tokens_int]\n",
    "\n",
    "padded_sample_tokens_int = packer(np.array(sample_tokens_int))[0].tolist()\n",
    "padded_sample_tokens_str = [\n",
    "    tokenizer.id_to_token(token) for token in padded_sample_tokens_int\n",
    "]"
   ]
  },
  {
   "cell_type": "code",
   "execution_count": 9,
   "id": "1458aaa9",
   "metadata": {
    "execution": {
     "iopub.execute_input": "2024-04-16T19:56:08.304313Z",
     "iopub.status.busy": "2024-04-16T19:56:08.303665Z",
     "iopub.status.idle": "2024-04-16T19:56:08.320960Z",
     "shell.execute_reply": "2024-04-16T19:56:08.320242Z"
    },
    "papermill": {
     "duration": 0.026482,
     "end_time": "2024-04-16T19:56:08.322934",
     "exception": false,
     "start_time": "2024-04-16T19:56:08.296452",
     "status": "completed"
    },
    "tags": []
   },
   "outputs": [],
   "source": [
    "def get_tokens(words, seq_len, packer):\n",
    "    token_words = tf.expand_dims(tokenizer(words), axis=-1)\n",
    "    tokens = tf.reshape(token_words, [-1])\n",
    "    tokens = packer(tokens)[0][:seq_len]\n",
    "    inputs = {\"token_ids\": tokens, \"padding_mask\": tokens != 0}\n",
    "    return inputs, tokens, token_words\n",
    "\n",
    "def get_token_ids(token_words):\n",
    "    word_ids = tf.range(tf.shape(token_words)[0])\n",
    "    word_size = tf.reshape(tf.map_fn(lambda word: tf.shape(word)[0:1], token_words), [-1])\n",
    "    token_ids = tf.repeat(word_ids, word_size)\n",
    "    return token_ids\n",
    "\n",
    "def get_token_labels(word_labels, token_ids, seq_len):\n",
    "    token_labels = tf.gather(word_labels, token_ids)\n",
    "    mask = tf.concat([[True], token_ids[1:] != token_ids[:-1]], axis=0)\n",
    "    token_labels = tf.where(mask, token_labels, -100)\n",
    "    token_labels = token_labels[:seq_len - 2]\n",
    "    pad_start = 1\n",
    "    pad_end = seq_len - tf.shape(token_labels)[0] - 1\n",
    "    token_labels = tf.pad(token_labels, [[pad_start, pad_end]], constant_values=-100)\n",
    "    return token_labels\n",
    "\n",
    "def process_token_ids(token_ids, seq_len):\n",
    "    token_ids = token_ids[:seq_len - 2]\n",
    "    pad_start = 1\n",
    "    pad_end = seq_len - tf.shape(token_ids)[0] - 1\n",
    "    token_ids = tf.pad(token_ids, [[pad_start, pad_end]], constant_values=-1)\n",
    "    return token_ids\n",
    "\n",
    "def process_data(seq_len=720, has_label=True, return_ids=False):\n",
    "    packer = keras_nlp.layers.MultiSegmentPacker(\n",
    "        start_value=tokenizer.cls_token_id,\n",
    "        end_value=tokenizer.sep_token_id,\n",
    "        sequence_length=seq_len,\n",
    "    )\n",
    "\n",
    "    def process(x):\n",
    "        inputs, tokens, words_int = get_tokens(x[\"words\"], seq_len, packer)\n",
    "        token_ids = get_token_ids(words_int)\n",
    "        if has_label:\n",
    "            token_labels = get_token_labels(x[\"labels\"], token_ids, seq_len)\n",
    "            return inputs, token_labels\n",
    "        elif return_ids:\n",
    "            token_ids = process_token_ids(token_ids, seq_len)\n",
    "            return token_ids\n",
    "        else:\n",
    "            return inputs\n",
    "\n",
    "    return process\n",
    "\n",
    "\n",
    "def build_dataset(words, labels=None, return_ids=False, batch_size=4,\n",
    "                  seq_len=512, shuffle=False, cache=True, drop_remainder=True):\n",
    "    AUTO = tf.data.AUTOTUNE \n",
    "\n",
    "    slices = {\"words\": tf.ragged.constant(words)}\n",
    "    if labels is not None:\n",
    "        slices.update({\"labels\": tf.ragged.constant(labels)})\n",
    "\n",
    "    ds = tf.data.Dataset.from_tensor_slices(slices)\n",
    "    ds = ds.map(process_data(seq_len=seq_len,\n",
    "                             has_label=labels is not None, \n",
    "                             return_ids=return_ids), num_parallel_calls=AUTO) \n",
    "    ds = ds.cache() if cache else ds  \n",
    "    if shuffle: \n",
    "        ds = ds.shuffle(1024, seed=CFG.seed)  \n",
    "        opt = tf.data.Options() \n",
    "        opt.experimental_deterministic = False\n",
    "        ds = ds.with_options(opt)\n",
    "    ds = ds.batch(batch_size, drop_remainder=drop_remainder)  \n",
    "    ds = ds.prefetch(AUTO) \n",
    "    return ds\n"
   ]
  },
  {
   "cell_type": "code",
   "execution_count": 10,
   "id": "31625ca3",
   "metadata": {
    "execution": {
     "iopub.execute_input": "2024-04-16T19:56:08.336207Z",
     "iopub.status.busy": "2024-04-16T19:56:08.335926Z",
     "iopub.status.idle": "2024-04-16T19:56:41.899661Z",
     "shell.execute_reply": "2024-04-16T19:56:41.898856Z"
    },
    "papermill": {
     "duration": 33.57333,
     "end_time": "2024-04-16T19:56:41.902188",
     "exception": false,
     "start_time": "2024-04-16T19:56:08.328858",
     "status": "completed"
    },
    "tags": []
   },
   "outputs": [],
   "source": [
    "train_ds = build_dataset(train_words, train_labels,  batch_size=CFG.train_batch_size,\n",
    "                         seq_len=CFG.train_seq_len, shuffle=True)\n",
    "\n",
    "valid_ds = build_dataset(valid_words, valid_labels, batch_size=CFG.train_batch_size, \n",
    "                         seq_len=CFG.train_seq_len, shuffle=False)"
   ]
  },
  {
   "cell_type": "code",
   "execution_count": 11,
   "id": "7bbdb316",
   "metadata": {
    "execution": {
     "iopub.execute_input": "2024-04-16T19:56:41.915616Z",
     "iopub.status.busy": "2024-04-16T19:56:41.915305Z",
     "iopub.status.idle": "2024-04-16T19:56:41.923183Z",
     "shell.execute_reply": "2024-04-16T19:56:41.922302Z"
    },
    "papermill": {
     "duration": 0.016554,
     "end_time": "2024-04-16T19:56:41.925089",
     "exception": false,
     "start_time": "2024-04-16T19:56:41.908535",
     "status": "completed"
    },
    "tags": []
   },
   "outputs": [],
   "source": [
    "class CrossEntropy(keras.losses.SparseCategoricalCrossentropy):\n",
    "    def __init__(self, ignore_class=-100, reduction=None, **args):\n",
    "        super().__init__(reduction=reduction, **args)\n",
    "        self.ignore_class = ignore_class\n",
    "\n",
    "    def call(self, y_true, y_pred):\n",
    "        y_true = ops.reshape(y_true, [-1])\n",
    "        y_pred = ops.reshape(y_pred, [-1, CFG.num_labels])\n",
    "        loss = super().call(y_true, y_pred)\n",
    "        if self.ignore_class is not None:\n",
    "            valid_mask = ops.not_equal(\n",
    "                y_true, ops.cast(self.ignore_class, y_pred.dtype)\n",
    "            )\n",
    "            loss = ops.where(valid_mask, loss, 0.0)\n",
    "            loss = ops.sum(loss)\n",
    "            loss /= ops.maximum(ops.sum(ops.cast(valid_mask, loss.dtype)), 1)\n",
    "        else:\n",
    "            loss = ops.mean(loss)\n",
    "        return loss"
   ]
  },
  {
   "cell_type": "code",
   "execution_count": 12,
   "id": "12864d4e",
   "metadata": {
    "execution": {
     "iopub.execute_input": "2024-04-16T19:56:41.938445Z",
     "iopub.status.busy": "2024-04-16T19:56:41.937731Z",
     "iopub.status.idle": "2024-04-16T19:56:41.950219Z",
     "shell.execute_reply": "2024-04-16T19:56:41.949391Z"
    },
    "papermill": {
     "duration": 0.021236,
     "end_time": "2024-04-16T19:56:41.952115",
     "exception": false,
     "start_time": "2024-04-16T19:56:41.930879",
     "status": "completed"
    },
    "tags": []
   },
   "outputs": [],
   "source": [
    "class FBetaScore(keras.metrics.FBetaScore):\n",
    "    def __init__(self, ignore_classes=[-100, 12], average=\"micro\", beta=5.0,\n",
    "                 name=\"f5_score\", **args):\n",
    "        super().__init__(beta=beta, average=average, name=name, **args)\n",
    "        self.ignore_classes = ignore_classes or []\n",
    "\n",
    "    def update_state(self, y_true, y_pred, sample_weight=None):\n",
    "        y_true = ops.convert_to_tensor(y_true, dtype=self.dtype)\n",
    "        y_pred = ops.convert_to_tensor(y_pred, dtype=self.dtype)\n",
    "        \n",
    "        y_true = ops.reshape(y_true, [-1])\n",
    "        y_pred = ops.reshape(y_pred, [-1, CFG.num_labels])\n",
    "            \n",
    "        valid_mask = ops.ones_like(y_true, dtype=self.dtype)\n",
    "        if self.ignore_classes:\n",
    "            for ignore_class in self.ignore_classes:\n",
    "                valid_mask &= ops.not_equal(y_true, ops.cast(ignore_class, y_pred.dtype))\n",
    "        valid_mask = ops.expand_dims(valid_mask, axis=-1)\n",
    "        \n",
    "        y_true = ops.one_hot(y_true, CFG.num_labels)\n",
    "        \n",
    "        if not self._built:\n",
    "            self._build(y_true.shape, y_pred.shape)\n",
    "        \n",
    "        threshold = ops.max(y_pred, axis=-1, keepdims=True)\n",
    "        y_pred = ops.logical_and(\n",
    "            y_pred >= threshold, ops.abs(y_pred) > 1e-9\n",
    "        )\n",
    "\n",
    "        y_pred = ops.cast(y_pred, dtype=self.dtype)\n",
    "        y_true = ops.cast(y_true, dtype=self.dtype)\n",
    "        \n",
    "        tp = ops.sum(y_pred * y_true * valid_mask, self.axis)\n",
    "        fp = ops.sum(y_pred * (1 - y_true) * valid_mask, self.axis)\n",
    "        fn = ops.sum((1 - y_pred) * y_true * valid_mask, self.axis)\n",
    "        \n",
    "        self.true_positives.assign_add(tp)\n",
    "        self.false_positives.assign_add(fp)\n",
    "        self.false_negatives.assign_add(fn)"
   ]
  },
  {
   "cell_type": "code",
   "execution_count": 13,
   "id": "c83e787e",
   "metadata": {
    "execution": {
     "iopub.execute_input": "2024-04-16T19:56:41.965829Z",
     "iopub.status.busy": "2024-04-16T19:56:41.965290Z",
     "iopub.status.idle": "2024-04-16T19:56:54.368440Z",
     "shell.execute_reply": "2024-04-16T19:56:54.367643Z"
    },
    "papermill": {
     "duration": 12.411869,
     "end_time": "2024-04-16T19:56:54.370690",
     "exception": false,
     "start_time": "2024-04-16T19:56:41.958821",
     "status": "completed"
    },
    "tags": []
   },
   "outputs": [
    {
     "name": "stderr",
     "output_type": "stream",
     "text": [
      "Attaching 'config.json' from model 'keras/deberta_v3/keras/deberta_v3_small_en/2' to your Kaggle notebook...\n",
      "Attaching 'config.json' from model 'keras/deberta_v3/keras/deberta_v3_small_en/2' to your Kaggle notebook...\n",
      "Attaching 'model.weights.h5' from model 'keras/deberta_v3/keras/deberta_v3_small_en/2' to your Kaggle notebook...\n"
     ]
    }
   ],
   "source": [
    "backbone = keras_nlp.models.DebertaV3Backbone.from_preset(\n",
    "    CFG.preset,\n",
    ")\n",
    "backbone_output = backbone.output\n",
    "logits = keras.layers.Dense(CFG.num_labels, name=\"logits\")(backbone_output)\n",
    "predictions = keras.layers.Activation(\"softmax\", dtype=\"float32\", name=\"prediction\")(logits)\n",
    "model = keras.Model(inputs=backbone.input, outputs=predictions)\n",
    "model.compile(\n",
    "    optimizer=keras.optimizers.Adam(learning_rate=2e-5),\n",
    "    loss=CrossEntropy(),\n",
    "    metrics=[FBetaScore()]\n",
    ")"
   ]
  },
  {
   "cell_type": "code",
   "execution_count": 14,
   "id": "8c406534",
   "metadata": {
    "execution": {
     "iopub.execute_input": "2024-04-16T19:56:54.384527Z",
     "iopub.status.busy": "2024-04-16T19:56:54.384236Z",
     "iopub.status.idle": "2024-04-16T19:56:59.703998Z",
     "shell.execute_reply": "2024-04-16T19:56:59.703086Z"
    },
    "papermill": {
     "duration": 5.32911,
     "end_time": "2024-04-16T19:56:59.706294",
     "exception": false,
     "start_time": "2024-04-16T19:56:54.377184",
     "status": "completed"
    },
    "tags": []
   },
   "outputs": [
    {
     "name": "stderr",
     "output_type": "stream",
     "text": [
      "/opt/conda/lib/python3.10/site-packages/keras/src/saving/saving_lib.py:396: UserWarning: Skipping variable loading for optimizer 'adam', because it has 2 variables whereas the saved optimizer has 214 variables. \n",
      "  trackable.load_own_variables(weights_store.get(inner_path))\n"
     ]
    }
   ],
   "source": [
    "if CFG.train:\n",
    "    history = model.fit(\n",
    "        train_ds,  \n",
    "        validation_data=valid_ds, \n",
    "        epochs=CFG.training_epochs,  \n",
    "        callbacks=[lr_cb],  \n",
    "        verbose=1 \n",
    "    )\n",
    "else:\n",
    "    model.load_weights(\"/kaggle/input/model-weights-h5/model.weights.h5\")"
   ]
  },
  {
   "cell_type": "code",
   "execution_count": 15,
   "id": "37789415",
   "metadata": {
    "execution": {
     "iopub.execute_input": "2024-04-16T19:56:59.721091Z",
     "iopub.status.busy": "2024-04-16T19:56:59.720605Z",
     "iopub.status.idle": "2024-04-16T20:00:52.631071Z",
     "shell.execute_reply": "2024-04-16T20:00:52.630170Z"
    },
    "papermill": {
     "duration": 232.920016,
     "end_time": "2024-04-16T20:00:52.632936",
     "exception": false,
     "start_time": "2024-04-16T19:56:59.712920",
     "status": "completed"
    },
    "tags": []
   },
   "outputs": [
    {
     "data": {
      "application/vnd.jupyter.widget-view+json": {
       "model_id": "80a4bd5f41e940da8d46a0bff696b580",
       "version_major": 2,
       "version_minor": 0
      },
      "text/plain": [
       "  0%|          | 0/12 [00:00<?, ?it/s]"
      ]
     },
     "metadata": {},
     "output_type": "display_data"
    },
    {
     "name": "stdout",
     "output_type": "stream",
     "text": [
      "\u001b[1m3/3\u001b[0m \u001b[32m━━━━━━━━━━━━━━━━━━━━\u001b[0m\u001b[37m\u001b[0m \u001b[1m4s\u001b[0m 7ms/step\n"
     ]
    },
    {
     "data": {
      "application/vnd.jupyter.widget-view+json": {
       "model_id": "8bb9af0560524690958b2db11dcbf6a9",
       "version_major": 2,
       "version_minor": 0
      },
      "text/plain": [
       "  0%|          | 0/10 [00:00<?, ?it/s]"
      ]
     },
     "metadata": {},
     "output_type": "display_data"
    }
   ],
   "source": [
    "valid_ds = build_dataset(valid_words, valid_labels, return_ids=False, batch_size=CFG.infer_batch_size, seq_len=CFG.infer_seq_len, shuffle=False, cache=False)\n",
    "\n",
    "model.evaluate(valid_ds, return_dict=True, verbose=0)\n",
    "test_data = json.load(open(f\"{BASE_PATH}/test.json\"))\n",
    "\n",
    "need_samples  = len(devices) - len(test_data) % len(devices)\n",
    "for _ in range(need_samples):\n",
    "    test_data.append(test_data[-1])\n",
    "    \n",
    "test_words = np.empty(len(test_data), dtype=object)\n",
    "test_docs = np.empty(len(test_data), dtype=np.int32)\n",
    "\n",
    "for i, x in tqdm(enumerate(test_data), total=len(test_data)):\n",
    "    test_words[i] = np.array(x[\"tokens\"])\n",
    "    test_docs[i] = x[\"document\"]\n",
    "\n",
    "id_ds = build_dataset(test_words, return_ids=True, batch_size=len(test_words), \n",
    "                      seq_len=CFG.infer_seq_len, shuffle=False, cache=False, drop_remainder=False)\n",
    "test_token_ids = ops.convert_to_numpy([ids for ids in iter(id_ds)][0])\n",
    "\n",
    "test_ds = build_dataset(test_words, return_ids=False, batch_size=CFG.infer_batch_size,\n",
    "                        seq_len=CFG.infer_seq_len, shuffle=False, cache=False, drop_remainder=False)\n",
    "\n",
    "test_preds = model.predict(test_ds, verbose=1)\n",
    "\n",
    "test_preds = np.argmax(test_preds, axis=-1)\n",
    "\n",
    "test_docs = test_docs[:-need_samples]\n",
    "test_token_ids = test_token_ids[:-need_samples]\n",
    "test_preds = test_preds[:-need_samples]\n",
    "test_words = test_words[:-need_samples]\n",
    "\n",
    "document_list = []\n",
    "token_id_list = []\n",
    "label_id_list = []\n",
    "token_list = []\n",
    "\n",
    "for doc, token_ids, preds, tokens in tqdm(\n",
    "    zip(test_docs, test_token_ids, test_preds, test_words), total=len(test_words)\n",
    "):\n",
    "    mask1 = np.concatenate(([True], token_ids[1:] != token_ids[:-1]))\n",
    "    mask2 = (preds != 12)\n",
    "    mask3 = (token_ids != -1)\n",
    "    mask = (mask1 & mask2 & mask3)\n",
    "    \n",
    "    token_ids = token_ids[mask]\n",
    "    preds = preds[mask]\n",
    "\n",
    "    if len(token_ids):\n",
    "        token_list.extend(tokens[token_ids])\n",
    "        document_list.extend([doc] * len(token_ids))\n",
    "        token_id_list.extend(token_ids)\n",
    "        label_id_list.extend(preds)\n",
    "\n",
    "pred_df = pd.DataFrame(\n",
    "    {\n",
    "        \"document\": document_list,\n",
    "        \"token\": token_id_list,\n",
    "        \"label_id\": label_id_list,\n",
    "        \"token_string\": token_list,\n",
    "    }\n",
    ")\n",
    "pred_df = pred_df.rename_axis(\"row_id\").reset_index()\n",
    "pred_df[\"label\"] = pred_df.label_id.map(CFG.id2label)\n",
    "pred_df.head(10)\n",
    "\n",
    "sub_df = pred_df.drop(columns=[\"token_string\", \"label_id\"])\n",
    "sub_df.to_csv(\"submission.csv\", index=False)\n"
   ]
  }
 ],
 "metadata": {
  "kaggle": {
   "accelerator": "nvidiaTeslaT4",
   "dataSources": [
    {
     "databundleVersionId": 7500999,
     "sourceId": 66653,
     "sourceType": "competition"
    },
    {
     "datasetId": 4812108,
     "sourceId": 8139426,
     "sourceType": "datasetVersion"
    },
    {
     "modelInstanceId": 4685,
     "sourceId": 6064,
     "sourceType": "modelInstanceVersion"
    }
   ],
   "dockerImageVersionId": 30683,
   "isGpuEnabled": true,
   "isInternetEnabled": false,
   "language": "python",
   "sourceType": "notebook"
  },
  "kernelspec": {
   "display_name": "Python 3",
   "language": "python",
   "name": "python3"
  },
  "language_info": {
   "codemirror_mode": {
    "name": "ipython",
    "version": 3
   },
   "file_extension": ".py",
   "mimetype": "text/x-python",
   "name": "python",
   "nbconvert_exporter": "python",
   "pygments_lexer": "ipython3",
   "version": "3.10.13"
  },
  "papermill": {
   "default_parameters": {},
   "duration": 362.466195,
   "end_time": "2024-04-16T20:00:56.083580",
   "environment_variables": {},
   "exception": null,
   "input_path": "__notebook__.ipynb",
   "output_path": "__notebook__.ipynb",
   "parameters": {},
   "start_time": "2024-04-16T19:54:53.617385",
   "version": "2.5.0"
  },
  "widgets": {
   "application/vnd.jupyter.widget-state+json": {
    "state": {
     "004ffac2d4374d338393feb51af67bf7": {
      "model_module": "@jupyter-widgets/controls",
      "model_module_version": "1.5.0",
      "model_name": "HTMLModel",
      "state": {
       "_dom_classes": [],
       "_model_module": "@jupyter-widgets/controls",
       "_model_module_version": "1.5.0",
       "_model_name": "HTMLModel",
       "_view_count": null,
       "_view_module": "@jupyter-widgets/controls",
       "_view_module_version": "1.5.0",
       "_view_name": "HTMLView",
       "description": "",
       "description_tooltip": null,
       "layout": "IPY_MODEL_e05f07ff331c4d8295eeb90b6d772756",
       "placeholder": "​",
       "style": "IPY_MODEL_2bbf7b08de5542869492472c7f9bd55c",
       "value": " 10/10 [00:00&lt;00:00, 728.58it/s]"
      }
     },
     "091c3ee201ac474f94e646c974348783": {
      "model_module": "@jupyter-widgets/controls",
      "model_module_version": "1.5.0",
      "model_name": "DescriptionStyleModel",
      "state": {
       "_model_module": "@jupyter-widgets/controls",
       "_model_module_version": "1.5.0",
       "_model_name": "DescriptionStyleModel",
       "_view_count": null,
       "_view_module": "@jupyter-widgets/base",
       "_view_module_version": "1.2.0",
       "_view_name": "StyleView",
       "description_width": ""
      }
     },
     "0d31e8c7cbda45bd82c6fbb3282f18f2": {
      "model_module": "@jupyter-widgets/base",
      "model_module_version": "1.2.0",
      "model_name": "LayoutModel",
      "state": {
       "_model_module": "@jupyter-widgets/base",
       "_model_module_version": "1.2.0",
       "_model_name": "LayoutModel",
       "_view_count": null,
       "_view_module": "@jupyter-widgets/base",
       "_view_module_version": "1.2.0",
       "_view_name": "LayoutView",
       "align_content": null,
       "align_items": null,
       "align_self": null,
       "border": null,
       "bottom": null,
       "display": null,
       "flex": null,
       "flex_flow": null,
       "grid_area": null,
       "grid_auto_columns": null,
       "grid_auto_flow": null,
       "grid_auto_rows": null,
       "grid_column": null,
       "grid_gap": null,
       "grid_row": null,
       "grid_template_areas": null,
       "grid_template_columns": null,
       "grid_template_rows": null,
       "height": null,
       "justify_content": null,
       "justify_items": null,
       "left": null,
       "margin": null,
       "max_height": null,
       "max_width": null,
       "min_height": null,
       "min_width": null,
       "object_fit": null,
       "object_position": null,
       "order": null,
       "overflow": null,
       "overflow_x": null,
       "overflow_y": null,
       "padding": null,
       "right": null,
       "top": null,
       "visibility": null,
       "width": null
      }
     },
     "18fb1c27761f41ad8d305d5047757184": {
      "model_module": "@jupyter-widgets/base",
      "model_module_version": "1.2.0",
      "model_name": "LayoutModel",
      "state": {
       "_model_module": "@jupyter-widgets/base",
       "_model_module_version": "1.2.0",
       "_model_name": "LayoutModel",
       "_view_count": null,
       "_view_module": "@jupyter-widgets/base",
       "_view_module_version": "1.2.0",
       "_view_name": "LayoutView",
       "align_content": null,
       "align_items": null,
       "align_self": null,
       "border": null,
       "bottom": null,
       "display": null,
       "flex": null,
       "flex_flow": null,
       "grid_area": null,
       "grid_auto_columns": null,
       "grid_auto_flow": null,
       "grid_auto_rows": null,
       "grid_column": null,
       "grid_gap": null,
       "grid_row": null,
       "grid_template_areas": null,
       "grid_template_columns": null,
       "grid_template_rows": null,
       "height": null,
       "justify_content": null,
       "justify_items": null,
       "left": null,
       "margin": null,
       "max_height": null,
       "max_width": null,
       "min_height": null,
       "min_width": null,
       "object_fit": null,
       "object_position": null,
       "order": null,
       "overflow": null,
       "overflow_x": null,
       "overflow_y": null,
       "padding": null,
       "right": null,
       "top": null,
       "visibility": null,
       "width": null
      }
     },
     "1d9b8692a17f47078c5f552f83544617": {
      "model_module": "@jupyter-widgets/controls",
      "model_module_version": "1.5.0",
      "model_name": "DescriptionStyleModel",
      "state": {
       "_model_module": "@jupyter-widgets/controls",
       "_model_module_version": "1.5.0",
       "_model_name": "DescriptionStyleModel",
       "_view_count": null,
       "_view_module": "@jupyter-widgets/base",
       "_view_module_version": "1.2.0",
       "_view_name": "StyleView",
       "description_width": ""
      }
     },
     "2bbf7b08de5542869492472c7f9bd55c": {
      "model_module": "@jupyter-widgets/controls",
      "model_module_version": "1.5.0",
      "model_name": "DescriptionStyleModel",
      "state": {
       "_model_module": "@jupyter-widgets/controls",
       "_model_module_version": "1.5.0",
       "_model_name": "DescriptionStyleModel",
       "_view_count": null,
       "_view_module": "@jupyter-widgets/base",
       "_view_module_version": "1.2.0",
       "_view_name": "StyleView",
       "description_width": ""
      }
     },
     "38ac77f3353446f287de785a1bd9c043": {
      "model_module": "@jupyter-widgets/base",
      "model_module_version": "1.2.0",
      "model_name": "LayoutModel",
      "state": {
       "_model_module": "@jupyter-widgets/base",
       "_model_module_version": "1.2.0",
       "_model_name": "LayoutModel",
       "_view_count": null,
       "_view_module": "@jupyter-widgets/base",
       "_view_module_version": "1.2.0",
       "_view_name": "LayoutView",
       "align_content": null,
       "align_items": null,
       "align_self": null,
       "border": null,
       "bottom": null,
       "display": null,
       "flex": null,
       "flex_flow": null,
       "grid_area": null,
       "grid_auto_columns": null,
       "grid_auto_flow": null,
       "grid_auto_rows": null,
       "grid_column": null,
       "grid_gap": null,
       "grid_row": null,
       "grid_template_areas": null,
       "grid_template_columns": null,
       "grid_template_rows": null,
       "height": null,
       "justify_content": null,
       "justify_items": null,
       "left": null,
       "margin": null,
       "max_height": null,
       "max_width": null,
       "min_height": null,
       "min_width": null,
       "object_fit": null,
       "object_position": null,
       "order": null,
       "overflow": null,
       "overflow_x": null,
       "overflow_y": null,
       "padding": null,
       "right": null,
       "top": null,
       "visibility": null,
       "width": null
      }
     },
     "417ff3c664b04336960aa223c35303a3": {
      "model_module": "@jupyter-widgets/base",
      "model_module_version": "1.2.0",
      "model_name": "LayoutModel",
      "state": {
       "_model_module": "@jupyter-widgets/base",
       "_model_module_version": "1.2.0",
       "_model_name": "LayoutModel",
       "_view_count": null,
       "_view_module": "@jupyter-widgets/base",
       "_view_module_version": "1.2.0",
       "_view_name": "LayoutView",
       "align_content": null,
       "align_items": null,
       "align_self": null,
       "border": null,
       "bottom": null,
       "display": null,
       "flex": null,
       "flex_flow": null,
       "grid_area": null,
       "grid_auto_columns": null,
       "grid_auto_flow": null,
       "grid_auto_rows": null,
       "grid_column": null,
       "grid_gap": null,
       "grid_row": null,
       "grid_template_areas": null,
       "grid_template_columns": null,
       "grid_template_rows": null,
       "height": null,
       "justify_content": null,
       "justify_items": null,
       "left": null,
       "margin": null,
       "max_height": null,
       "max_width": null,
       "min_height": null,
       "min_width": null,
       "object_fit": null,
       "object_position": null,
       "order": null,
       "overflow": null,
       "overflow_x": null,
       "overflow_y": null,
       "padding": null,
       "right": null,
       "top": null,
       "visibility": null,
       "width": null
      }
     },
     "41ae82d64f6640438f0bbdd1996cffb1": {
      "model_module": "@jupyter-widgets/controls",
      "model_module_version": "1.5.0",
      "model_name": "ProgressStyleModel",
      "state": {
       "_model_module": "@jupyter-widgets/controls",
       "_model_module_version": "1.5.0",
       "_model_name": "ProgressStyleModel",
       "_view_count": null,
       "_view_module": "@jupyter-widgets/base",
       "_view_module_version": "1.2.0",
       "_view_name": "StyleView",
       "bar_color": null,
       "description_width": ""
      }
     },
     "4e0016458c6e4fe1911dd6330c093f80": {
      "model_module": "@jupyter-widgets/controls",
      "model_module_version": "1.5.0",
      "model_name": "HTMLModel",
      "state": {
       "_dom_classes": [],
       "_model_module": "@jupyter-widgets/controls",
       "_model_module_version": "1.5.0",
       "_model_name": "HTMLModel",
       "_view_count": null,
       "_view_module": "@jupyter-widgets/controls",
       "_view_module_version": "1.5.0",
       "_view_name": "HTMLView",
       "description": "",
       "description_tooltip": null,
       "layout": "IPY_MODEL_417ff3c664b04336960aa223c35303a3",
       "placeholder": "​",
       "style": "IPY_MODEL_e09ff0caa6b54587abcda15fcf1aebc9",
       "value": " 6807/6807 [00:02&lt;00:00, 2405.99it/s]"
      }
     },
     "5c32e4e85f5d44c3b83e1d0e181429e5": {
      "model_module": "@jupyter-widgets/base",
      "model_module_version": "1.2.0",
      "model_name": "LayoutModel",
      "state": {
       "_model_module": "@jupyter-widgets/base",
       "_model_module_version": "1.2.0",
       "_model_name": "LayoutModel",
       "_view_count": null,
       "_view_module": "@jupyter-widgets/base",
       "_view_module_version": "1.2.0",
       "_view_name": "LayoutView",
       "align_content": null,
       "align_items": null,
       "align_self": null,
       "border": null,
       "bottom": null,
       "display": null,
       "flex": null,
       "flex_flow": null,
       "grid_area": null,
       "grid_auto_columns": null,
       "grid_auto_flow": null,
       "grid_auto_rows": null,
       "grid_column": null,
       "grid_gap": null,
       "grid_row": null,
       "grid_template_areas": null,
       "grid_template_columns": null,
       "grid_template_rows": null,
       "height": null,
       "justify_content": null,
       "justify_items": null,
       "left": null,
       "margin": null,
       "max_height": null,
       "max_width": null,
       "min_height": null,
       "min_width": null,
       "object_fit": null,
       "object_position": null,
       "order": null,
       "overflow": null,
       "overflow_x": null,
       "overflow_y": null,
       "padding": null,
       "right": null,
       "top": null,
       "visibility": null,
       "width": null
      }
     },
     "647daa0f01e54a1c8cd551bba51c58cb": {
      "model_module": "@jupyter-widgets/base",
      "model_module_version": "1.2.0",
      "model_name": "LayoutModel",
      "state": {
       "_model_module": "@jupyter-widgets/base",
       "_model_module_version": "1.2.0",
       "_model_name": "LayoutModel",
       "_view_count": null,
       "_view_module": "@jupyter-widgets/base",
       "_view_module_version": "1.2.0",
       "_view_name": "LayoutView",
       "align_content": null,
       "align_items": null,
       "align_self": null,
       "border": null,
       "bottom": null,
       "display": null,
       "flex": null,
       "flex_flow": null,
       "grid_area": null,
       "grid_auto_columns": null,
       "grid_auto_flow": null,
       "grid_auto_rows": null,
       "grid_column": null,
       "grid_gap": null,
       "grid_row": null,
       "grid_template_areas": null,
       "grid_template_columns": null,
       "grid_template_rows": null,
       "height": null,
       "justify_content": null,
       "justify_items": null,
       "left": null,
       "margin": null,
       "max_height": null,
       "max_width": null,
       "min_height": null,
       "min_width": null,
       "object_fit": null,
       "object_position": null,
       "order": null,
       "overflow": null,
       "overflow_x": null,
       "overflow_y": null,
       "padding": null,
       "right": null,
       "top": null,
       "visibility": null,
       "width": null
      }
     },
     "75e973eb60314e9aa2530ba44ddb33a6": {
      "model_module": "@jupyter-widgets/controls",
      "model_module_version": "1.5.0",
      "model_name": "HTMLModel",
      "state": {
       "_dom_classes": [],
       "_model_module": "@jupyter-widgets/controls",
       "_model_module_version": "1.5.0",
       "_model_name": "HTMLModel",
       "_view_count": null,
       "_view_module": "@jupyter-widgets/controls",
       "_view_module_version": "1.5.0",
       "_view_name": "HTMLView",
       "description": "",
       "description_tooltip": null,
       "layout": "IPY_MODEL_18fb1c27761f41ad8d305d5047757184",
       "placeholder": "​",
       "style": "IPY_MODEL_a4d8ddceeb454f04b4e467f33d7c4e89",
       "value": "100%"
      }
     },
     "78defa1a24644eb5beaf6c8f4e005d92": {
      "model_module": "@jupyter-widgets/controls",
      "model_module_version": "1.5.0",
      "model_name": "DescriptionStyleModel",
      "state": {
       "_model_module": "@jupyter-widgets/controls",
       "_model_module_version": "1.5.0",
       "_model_name": "DescriptionStyleModel",
       "_view_count": null,
       "_view_module": "@jupyter-widgets/base",
       "_view_module_version": "1.2.0",
       "_view_name": "StyleView",
       "description_width": ""
      }
     },
     "80a4bd5f41e940da8d46a0bff696b580": {
      "model_module": "@jupyter-widgets/controls",
      "model_module_version": "1.5.0",
      "model_name": "HBoxModel",
      "state": {
       "_dom_classes": [],
       "_model_module": "@jupyter-widgets/controls",
       "_model_module_version": "1.5.0",
       "_model_name": "HBoxModel",
       "_view_count": null,
       "_view_module": "@jupyter-widgets/controls",
       "_view_module_version": "1.5.0",
       "_view_name": "HBoxView",
       "box_style": "",
       "children": [
        "IPY_MODEL_a9858ea905644f6987dac64c92e5ee7d",
        "IPY_MODEL_98ecec397e6f4e04a603add5e3c52a82",
        "IPY_MODEL_e103a415cdda4196ab2bf15ee7755111"
       ],
       "layout": "IPY_MODEL_647daa0f01e54a1c8cd551bba51c58cb"
      }
     },
     "83dfb119161f412382f56c8bb92beb6e": {
      "model_module": "@jupyter-widgets/controls",
      "model_module_version": "1.5.0",
      "model_name": "FloatProgressModel",
      "state": {
       "_dom_classes": [],
       "_model_module": "@jupyter-widgets/controls",
       "_model_module_version": "1.5.0",
       "_model_name": "FloatProgressModel",
       "_view_count": null,
       "_view_module": "@jupyter-widgets/controls",
       "_view_module_version": "1.5.0",
       "_view_name": "ProgressView",
       "bar_style": "success",
       "description": "",
       "description_tooltip": null,
       "layout": "IPY_MODEL_0d31e8c7cbda45bd82c6fbb3282f18f2",
       "max": 6807.0,
       "min": 0.0,
       "orientation": "horizontal",
       "style": "IPY_MODEL_41ae82d64f6640438f0bbdd1996cffb1",
       "value": 6807.0
      }
     },
     "8b2c1c234bd842158fb4d5e590a2263a": {
      "model_module": "@jupyter-widgets/controls",
      "model_module_version": "1.5.0",
      "model_name": "ProgressStyleModel",
      "state": {
       "_model_module": "@jupyter-widgets/controls",
       "_model_module_version": "1.5.0",
       "_model_name": "ProgressStyleModel",
       "_view_count": null,
       "_view_module": "@jupyter-widgets/base",
       "_view_module_version": "1.2.0",
       "_view_name": "StyleView",
       "bar_color": null,
       "description_width": ""
      }
     },
     "8bb9af0560524690958b2db11dcbf6a9": {
      "model_module": "@jupyter-widgets/controls",
      "model_module_version": "1.5.0",
      "model_name": "HBoxModel",
      "state": {
       "_dom_classes": [],
       "_model_module": "@jupyter-widgets/controls",
       "_model_module_version": "1.5.0",
       "_model_name": "HBoxModel",
       "_view_count": null,
       "_view_module": "@jupyter-widgets/controls",
       "_view_module_version": "1.5.0",
       "_view_name": "HBoxView",
       "box_style": "",
       "children": [
        "IPY_MODEL_75e973eb60314e9aa2530ba44ddb33a6",
        "IPY_MODEL_9e6e0441033d4c8faab6bfb035cd0700",
        "IPY_MODEL_004ffac2d4374d338393feb51af67bf7"
       ],
       "layout": "IPY_MODEL_ed0ebbbcee7542f6a598be668fb059fd"
      }
     },
     "98ecec397e6f4e04a603add5e3c52a82": {
      "model_module": "@jupyter-widgets/controls",
      "model_module_version": "1.5.0",
      "model_name": "FloatProgressModel",
      "state": {
       "_dom_classes": [],
       "_model_module": "@jupyter-widgets/controls",
       "_model_module_version": "1.5.0",
       "_model_name": "FloatProgressModel",
       "_view_count": null,
       "_view_module": "@jupyter-widgets/controls",
       "_view_module_version": "1.5.0",
       "_view_name": "ProgressView",
       "bar_style": "success",
       "description": "",
       "description_tooltip": null,
       "layout": "IPY_MODEL_5c32e4e85f5d44c3b83e1d0e181429e5",
       "max": 12.0,
       "min": 0.0,
       "orientation": "horizontal",
       "style": "IPY_MODEL_8b2c1c234bd842158fb4d5e590a2263a",
       "value": 12.0
      }
     },
     "9d648bb8430644c1919104d8eef9ef43": {
      "model_module": "@jupyter-widgets/controls",
      "model_module_version": "1.5.0",
      "model_name": "ProgressStyleModel",
      "state": {
       "_model_module": "@jupyter-widgets/controls",
       "_model_module_version": "1.5.0",
       "_model_name": "ProgressStyleModel",
       "_view_count": null,
       "_view_module": "@jupyter-widgets/base",
       "_view_module_version": "1.2.0",
       "_view_name": "StyleView",
       "bar_color": null,
       "description_width": ""
      }
     },
     "9df6ada07bcc4d809932e5536fe761f7": {
      "model_module": "@jupyter-widgets/controls",
      "model_module_version": "1.5.0",
      "model_name": "HTMLModel",
      "state": {
       "_dom_classes": [],
       "_model_module": "@jupyter-widgets/controls",
       "_model_module_version": "1.5.0",
       "_model_name": "HTMLModel",
       "_view_count": null,
       "_view_module": "@jupyter-widgets/controls",
       "_view_module_version": "1.5.0",
       "_view_name": "HTMLView",
       "description": "",
       "description_tooltip": null,
       "layout": "IPY_MODEL_b602ef95f9754a2a9d4a3aa17d08f754",
       "placeholder": "​",
       "style": "IPY_MODEL_1d9b8692a17f47078c5f552f83544617",
       "value": "100%"
      }
     },
     "9e6e0441033d4c8faab6bfb035cd0700": {
      "model_module": "@jupyter-widgets/controls",
      "model_module_version": "1.5.0",
      "model_name": "FloatProgressModel",
      "state": {
       "_dom_classes": [],
       "_model_module": "@jupyter-widgets/controls",
       "_model_module_version": "1.5.0",
       "_model_name": "FloatProgressModel",
       "_view_count": null,
       "_view_module": "@jupyter-widgets/controls",
       "_view_module_version": "1.5.0",
       "_view_name": "ProgressView",
       "bar_style": "success",
       "description": "",
       "description_tooltip": null,
       "layout": "IPY_MODEL_38ac77f3353446f287de785a1bd9c043",
       "max": 10.0,
       "min": 0.0,
       "orientation": "horizontal",
       "style": "IPY_MODEL_9d648bb8430644c1919104d8eef9ef43",
       "value": 10.0
      }
     },
     "9f2a767d51df478a936c45cde6304d9b": {
      "model_module": "@jupyter-widgets/base",
      "model_module_version": "1.2.0",
      "model_name": "LayoutModel",
      "state": {
       "_model_module": "@jupyter-widgets/base",
       "_model_module_version": "1.2.0",
       "_model_name": "LayoutModel",
       "_view_count": null,
       "_view_module": "@jupyter-widgets/base",
       "_view_module_version": "1.2.0",
       "_view_name": "LayoutView",
       "align_content": null,
       "align_items": null,
       "align_self": null,
       "border": null,
       "bottom": null,
       "display": null,
       "flex": null,
       "flex_flow": null,
       "grid_area": null,
       "grid_auto_columns": null,
       "grid_auto_flow": null,
       "grid_auto_rows": null,
       "grid_column": null,
       "grid_gap": null,
       "grid_row": null,
       "grid_template_areas": null,
       "grid_template_columns": null,
       "grid_template_rows": null,
       "height": null,
       "justify_content": null,
       "justify_items": null,
       "left": null,
       "margin": null,
       "max_height": null,
       "max_width": null,
       "min_height": null,
       "min_width": null,
       "object_fit": null,
       "object_position": null,
       "order": null,
       "overflow": null,
       "overflow_x": null,
       "overflow_y": null,
       "padding": null,
       "right": null,
       "top": null,
       "visibility": null,
       "width": null
      }
     },
     "a0deb897e9354e929242241d801012d1": {
      "model_module": "@jupyter-widgets/controls",
      "model_module_version": "1.5.0",
      "model_name": "HBoxModel",
      "state": {
       "_dom_classes": [],
       "_model_module": "@jupyter-widgets/controls",
       "_model_module_version": "1.5.0",
       "_model_name": "HBoxModel",
       "_view_count": null,
       "_view_module": "@jupyter-widgets/controls",
       "_view_module_version": "1.5.0",
       "_view_name": "HBoxView",
       "box_style": "",
       "children": [
        "IPY_MODEL_9df6ada07bcc4d809932e5536fe761f7",
        "IPY_MODEL_83dfb119161f412382f56c8bb92beb6e",
        "IPY_MODEL_4e0016458c6e4fe1911dd6330c093f80"
       ],
       "layout": "IPY_MODEL_c9fd56119b004d7b9a024ed1b918cfa8"
      }
     },
     "a4d8ddceeb454f04b4e467f33d7c4e89": {
      "model_module": "@jupyter-widgets/controls",
      "model_module_version": "1.5.0",
      "model_name": "DescriptionStyleModel",
      "state": {
       "_model_module": "@jupyter-widgets/controls",
       "_model_module_version": "1.5.0",
       "_model_name": "DescriptionStyleModel",
       "_view_count": null,
       "_view_module": "@jupyter-widgets/base",
       "_view_module_version": "1.2.0",
       "_view_name": "StyleView",
       "description_width": ""
      }
     },
     "a9858ea905644f6987dac64c92e5ee7d": {
      "model_module": "@jupyter-widgets/controls",
      "model_module_version": "1.5.0",
      "model_name": "HTMLModel",
      "state": {
       "_dom_classes": [],
       "_model_module": "@jupyter-widgets/controls",
       "_model_module_version": "1.5.0",
       "_model_name": "HTMLModel",
       "_view_count": null,
       "_view_module": "@jupyter-widgets/controls",
       "_view_module_version": "1.5.0",
       "_view_name": "HTMLView",
       "description": "",
       "description_tooltip": null,
       "layout": "IPY_MODEL_9f2a767d51df478a936c45cde6304d9b",
       "placeholder": "​",
       "style": "IPY_MODEL_78defa1a24644eb5beaf6c8f4e005d92",
       "value": "100%"
      }
     },
     "b602ef95f9754a2a9d4a3aa17d08f754": {
      "model_module": "@jupyter-widgets/base",
      "model_module_version": "1.2.0",
      "model_name": "LayoutModel",
      "state": {
       "_model_module": "@jupyter-widgets/base",
       "_model_module_version": "1.2.0",
       "_model_name": "LayoutModel",
       "_view_count": null,
       "_view_module": "@jupyter-widgets/base",
       "_view_module_version": "1.2.0",
       "_view_name": "LayoutView",
       "align_content": null,
       "align_items": null,
       "align_self": null,
       "border": null,
       "bottom": null,
       "display": null,
       "flex": null,
       "flex_flow": null,
       "grid_area": null,
       "grid_auto_columns": null,
       "grid_auto_flow": null,
       "grid_auto_rows": null,
       "grid_column": null,
       "grid_gap": null,
       "grid_row": null,
       "grid_template_areas": null,
       "grid_template_columns": null,
       "grid_template_rows": null,
       "height": null,
       "justify_content": null,
       "justify_items": null,
       "left": null,
       "margin": null,
       "max_height": null,
       "max_width": null,
       "min_height": null,
       "min_width": null,
       "object_fit": null,
       "object_position": null,
       "order": null,
       "overflow": null,
       "overflow_x": null,
       "overflow_y": null,
       "padding": null,
       "right": null,
       "top": null,
       "visibility": null,
       "width": null
      }
     },
     "c9fd56119b004d7b9a024ed1b918cfa8": {
      "model_module": "@jupyter-widgets/base",
      "model_module_version": "1.2.0",
      "model_name": "LayoutModel",
      "state": {
       "_model_module": "@jupyter-widgets/base",
       "_model_module_version": "1.2.0",
       "_model_name": "LayoutModel",
       "_view_count": null,
       "_view_module": "@jupyter-widgets/base",
       "_view_module_version": "1.2.0",
       "_view_name": "LayoutView",
       "align_content": null,
       "align_items": null,
       "align_self": null,
       "border": null,
       "bottom": null,
       "display": null,
       "flex": null,
       "flex_flow": null,
       "grid_area": null,
       "grid_auto_columns": null,
       "grid_auto_flow": null,
       "grid_auto_rows": null,
       "grid_column": null,
       "grid_gap": null,
       "grid_row": null,
       "grid_template_areas": null,
       "grid_template_columns": null,
       "grid_template_rows": null,
       "height": null,
       "justify_content": null,
       "justify_items": null,
       "left": null,
       "margin": null,
       "max_height": null,
       "max_width": null,
       "min_height": null,
       "min_width": null,
       "object_fit": null,
       "object_position": null,
       "order": null,
       "overflow": null,
       "overflow_x": null,
       "overflow_y": null,
       "padding": null,
       "right": null,
       "top": null,
       "visibility": null,
       "width": null
      }
     },
     "d854e72a9c834dbba569617d785ee997": {
      "model_module": "@jupyter-widgets/base",
      "model_module_version": "1.2.0",
      "model_name": "LayoutModel",
      "state": {
       "_model_module": "@jupyter-widgets/base",
       "_model_module_version": "1.2.0",
       "_model_name": "LayoutModel",
       "_view_count": null,
       "_view_module": "@jupyter-widgets/base",
       "_view_module_version": "1.2.0",
       "_view_name": "LayoutView",
       "align_content": null,
       "align_items": null,
       "align_self": null,
       "border": null,
       "bottom": null,
       "display": null,
       "flex": null,
       "flex_flow": null,
       "grid_area": null,
       "grid_auto_columns": null,
       "grid_auto_flow": null,
       "grid_auto_rows": null,
       "grid_column": null,
       "grid_gap": null,
       "grid_row": null,
       "grid_template_areas": null,
       "grid_template_columns": null,
       "grid_template_rows": null,
       "height": null,
       "justify_content": null,
       "justify_items": null,
       "left": null,
       "margin": null,
       "max_height": null,
       "max_width": null,
       "min_height": null,
       "min_width": null,
       "object_fit": null,
       "object_position": null,
       "order": null,
       "overflow": null,
       "overflow_x": null,
       "overflow_y": null,
       "padding": null,
       "right": null,
       "top": null,
       "visibility": null,
       "width": null
      }
     },
     "e05f07ff331c4d8295eeb90b6d772756": {
      "model_module": "@jupyter-widgets/base",
      "model_module_version": "1.2.0",
      "model_name": "LayoutModel",
      "state": {
       "_model_module": "@jupyter-widgets/base",
       "_model_module_version": "1.2.0",
       "_model_name": "LayoutModel",
       "_view_count": null,
       "_view_module": "@jupyter-widgets/base",
       "_view_module_version": "1.2.0",
       "_view_name": "LayoutView",
       "align_content": null,
       "align_items": null,
       "align_self": null,
       "border": null,
       "bottom": null,
       "display": null,
       "flex": null,
       "flex_flow": null,
       "grid_area": null,
       "grid_auto_columns": null,
       "grid_auto_flow": null,
       "grid_auto_rows": null,
       "grid_column": null,
       "grid_gap": null,
       "grid_row": null,
       "grid_template_areas": null,
       "grid_template_columns": null,
       "grid_template_rows": null,
       "height": null,
       "justify_content": null,
       "justify_items": null,
       "left": null,
       "margin": null,
       "max_height": null,
       "max_width": null,
       "min_height": null,
       "min_width": null,
       "object_fit": null,
       "object_position": null,
       "order": null,
       "overflow": null,
       "overflow_x": null,
       "overflow_y": null,
       "padding": null,
       "right": null,
       "top": null,
       "visibility": null,
       "width": null
      }
     },
     "e09ff0caa6b54587abcda15fcf1aebc9": {
      "model_module": "@jupyter-widgets/controls",
      "model_module_version": "1.5.0",
      "model_name": "DescriptionStyleModel",
      "state": {
       "_model_module": "@jupyter-widgets/controls",
       "_model_module_version": "1.5.0",
       "_model_name": "DescriptionStyleModel",
       "_view_count": null,
       "_view_module": "@jupyter-widgets/base",
       "_view_module_version": "1.2.0",
       "_view_name": "StyleView",
       "description_width": ""
      }
     },
     "e103a415cdda4196ab2bf15ee7755111": {
      "model_module": "@jupyter-widgets/controls",
      "model_module_version": "1.5.0",
      "model_name": "HTMLModel",
      "state": {
       "_dom_classes": [],
       "_model_module": "@jupyter-widgets/controls",
       "_model_module_version": "1.5.0",
       "_model_name": "HTMLModel",
       "_view_count": null,
       "_view_module": "@jupyter-widgets/controls",
       "_view_module_version": "1.5.0",
       "_view_name": "HTMLView",
       "description": "",
       "description_tooltip": null,
       "layout": "IPY_MODEL_d854e72a9c834dbba569617d785ee997",
       "placeholder": "​",
       "style": "IPY_MODEL_091c3ee201ac474f94e646c974348783",
       "value": " 12/12 [00:00&lt;00:00, 704.02it/s]"
      }
     },
     "ed0ebbbcee7542f6a598be668fb059fd": {
      "model_module": "@jupyter-widgets/base",
      "model_module_version": "1.2.0",
      "model_name": "LayoutModel",
      "state": {
       "_model_module": "@jupyter-widgets/base",
       "_model_module_version": "1.2.0",
       "_model_name": "LayoutModel",
       "_view_count": null,
       "_view_module": "@jupyter-widgets/base",
       "_view_module_version": "1.2.0",
       "_view_name": "LayoutView",
       "align_content": null,
       "align_items": null,
       "align_self": null,
       "border": null,
       "bottom": null,
       "display": null,
       "flex": null,
       "flex_flow": null,
       "grid_area": null,
       "grid_auto_columns": null,
       "grid_auto_flow": null,
       "grid_auto_rows": null,
       "grid_column": null,
       "grid_gap": null,
       "grid_row": null,
       "grid_template_areas": null,
       "grid_template_columns": null,
       "grid_template_rows": null,
       "height": null,
       "justify_content": null,
       "justify_items": null,
       "left": null,
       "margin": null,
       "max_height": null,
       "max_width": null,
       "min_height": null,
       "min_width": null,
       "object_fit": null,
       "object_position": null,
       "order": null,
       "overflow": null,
       "overflow_x": null,
       "overflow_y": null,
       "padding": null,
       "right": null,
       "top": null,
       "visibility": null,
       "width": null
      }
     }
    },
    "version_major": 2,
    "version_minor": 0
   }
  }
 },
 "nbformat": 4,
 "nbformat_minor": 5
}
