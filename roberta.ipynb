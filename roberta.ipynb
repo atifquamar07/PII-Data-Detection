{
 "cells": [
  {
   "cell_type": "code",
   "execution_count": 1,
   "id": "d35845b6",
   "metadata": {
    "_cell_guid": "b1076dfc-b9ad-4769-8c92-a6c4dae69d19",
    "_uuid": "8f2839f25d086af736a60e9eeb907d3b93b6e0e5",
    "execution": {
     "iopub.execute_input": "2024-04-22T17:51:56.829773Z",
     "iopub.status.busy": "2024-04-22T17:51:56.829479Z",
     "iopub.status.idle": "2024-04-22T17:51:56.840639Z",
     "shell.execute_reply": "2024-04-22T17:51:56.839957Z"
    },
    "papermill": {
     "duration": 0.01945,
     "end_time": "2024-04-22T17:51:56.842550",
     "exception": false,
     "start_time": "2024-04-22T17:51:56.823100",
     "status": "completed"
    },
    "tags": []
   },
   "outputs": [],
   "source": [
    "BASE_PATH = \"/kaggle/input/pii-detection-removal-from-educational-data\""
   ]
  },
  {
   "cell_type": "code",
   "execution_count": 2,
   "id": "f99472fb",
   "metadata": {
    "execution": {
     "iopub.execute_input": "2024-04-22T17:51:56.852332Z",
     "iopub.status.busy": "2024-04-22T17:51:56.851645Z",
     "iopub.status.idle": "2024-04-22T17:51:56.855500Z",
     "shell.execute_reply": "2024-04-22T17:51:56.854652Z"
    },
    "papermill": {
     "duration": 0.010748,
     "end_time": "2024-04-22T17:51:56.857590",
     "exception": false,
     "start_time": "2024-04-22T17:51:56.846842",
     "status": "completed"
    },
    "tags": []
   },
   "outputs": [],
   "source": [
    "file_test = BASE_PATH + \"/test.json\""
   ]
  },
  {
   "cell_type": "markdown",
   "id": "2ccd5569",
   "metadata": {
    "papermill": {
     "duration": 0.003694,
     "end_time": "2024-04-22T17:51:56.865504",
     "exception": false,
     "start_time": "2024-04-22T17:51:56.861810",
     "status": "completed"
    },
    "tags": []
   },
   "source": []
  },
  {
   "cell_type": "code",
   "execution_count": 3,
   "id": "dd39e26d",
   "metadata": {
    "execution": {
     "iopub.execute_input": "2024-04-22T17:51:56.874531Z",
     "iopub.status.busy": "2024-04-22T17:51:56.874260Z",
     "iopub.status.idle": "2024-04-22T17:52:13.434008Z",
     "shell.execute_reply": "2024-04-22T17:52:13.433270Z"
    },
    "papermill": {
     "duration": 16.566491,
     "end_time": "2024-04-22T17:52:13.436215",
     "exception": false,
     "start_time": "2024-04-22T17:51:56.869724",
     "status": "completed"
    },
    "tags": []
   },
   "outputs": [
    {
     "name": "stderr",
     "output_type": "stream",
     "text": [
      "2024-04-22 17:52:05.295946: E external/local_xla/xla/stream_executor/cuda/cuda_dnn.cc:9261] Unable to register cuDNN factory: Attempting to register factory for plugin cuDNN when one has already been registered\n",
      "2024-04-22 17:52:05.296052: E external/local_xla/xla/stream_executor/cuda/cuda_fft.cc:607] Unable to register cuFFT factory: Attempting to register factory for plugin cuFFT when one has already been registered\n",
      "2024-04-22 17:52:05.400754: E external/local_xla/xla/stream_executor/cuda/cuda_blas.cc:1515] Unable to register cuBLAS factory: Attempting to register factory for plugin cuBLAS when one has already been registered\n"
     ]
    }
   ],
   "source": [
    "import sys, os\n",
    "import json\n",
    "import numpy as np\n",
    "import pandas as pd\n",
    "from functools import partial\n",
    "from transformers import AutoTokenizer, AutoModelForTokenClassification\n",
    "from transformers import DataCollatorForTokenClassification\n",
    "from datasets import Dataset\n",
    "from sklearn.model_selection import train_test_split\n",
    "import torch"
   ]
  },
  {
   "cell_type": "code",
   "execution_count": 4,
   "id": "af33043a",
   "metadata": {
    "execution": {
     "iopub.execute_input": "2024-04-22T17:52:13.445795Z",
     "iopub.status.busy": "2024-04-22T17:52:13.445259Z",
     "iopub.status.idle": "2024-04-22T17:52:13.469085Z",
     "shell.execute_reply": "2024-04-22T17:52:13.468314Z"
    },
    "papermill": {
     "duration": 0.030525,
     "end_time": "2024-04-22T17:52:13.470966",
     "exception": false,
     "start_time": "2024-04-22T17:52:13.440441",
     "status": "completed"
    },
    "tags": []
   },
   "outputs": [],
   "source": [
    "df_test = pd.read_json(file_test)"
   ]
  },
  {
   "cell_type": "code",
   "execution_count": 5,
   "id": "069273fb",
   "metadata": {
    "execution": {
     "iopub.execute_input": "2024-04-22T17:52:13.479893Z",
     "iopub.status.busy": "2024-04-22T17:52:13.479619Z",
     "iopub.status.idle": "2024-04-22T17:52:13.486910Z",
     "shell.execute_reply": "2024-04-22T17:52:13.485989Z"
    },
    "papermill": {
     "duration": 0.014046,
     "end_time": "2024-04-22T17:52:13.488872",
     "exception": false,
     "start_time": "2024-04-22T17:52:13.474826",
     "status": "completed"
    },
    "tags": []
   },
   "outputs": [
    {
     "data": {
      "text/plain": [
       "10"
      ]
     },
     "execution_count": 5,
     "metadata": {},
     "output_type": "execute_result"
    }
   ],
   "source": [
    "len(df_test)"
   ]
  },
  {
   "cell_type": "code",
   "execution_count": 6,
   "id": "5c980c13",
   "metadata": {
    "execution": {
     "iopub.execute_input": "2024-04-22T17:52:13.497817Z",
     "iopub.status.busy": "2024-04-22T17:52:13.497554Z",
     "iopub.status.idle": "2024-04-22T17:52:13.501224Z",
     "shell.execute_reply": "2024-04-22T17:52:13.500398Z"
    },
    "papermill": {
     "duration": 0.010136,
     "end_time": "2024-04-22T17:52:13.503010",
     "exception": false,
     "start_time": "2024-04-22T17:52:13.492874",
     "status": "completed"
    },
    "tags": []
   },
   "outputs": [],
   "source": [
    "MODEL = '/kaggle/input/roberta-base-g7/transformers/roberta-g7/1'"
   ]
  },
  {
   "cell_type": "code",
   "execution_count": 7,
   "id": "e8474123",
   "metadata": {
    "execution": {
     "iopub.execute_input": "2024-04-22T17:52:13.512095Z",
     "iopub.status.busy": "2024-04-22T17:52:13.511804Z",
     "iopub.status.idle": "2024-04-22T17:52:13.515620Z",
     "shell.execute_reply": "2024-04-22T17:52:13.514819Z"
    },
    "papermill": {
     "duration": 0.010346,
     "end_time": "2024-04-22T17:52:13.517470",
     "exception": false,
     "start_time": "2024-04-22T17:52:13.507124",
     "status": "completed"
    },
    "tags": []
   },
   "outputs": [],
   "source": [
    "MAXLEN = 512"
   ]
  },
  {
   "cell_type": "code",
   "execution_count": 8,
   "id": "c4e6de10",
   "metadata": {
    "execution": {
     "iopub.execute_input": "2024-04-22T17:52:13.526479Z",
     "iopub.status.busy": "2024-04-22T17:52:13.526229Z",
     "iopub.status.idle": "2024-04-22T17:52:13.691284Z",
     "shell.execute_reply": "2024-04-22T17:52:13.690498Z"
    },
    "papermill": {
     "duration": 0.172094,
     "end_time": "2024-04-22T17:52:13.693621",
     "exception": false,
     "start_time": "2024-04-22T17:52:13.521527",
     "status": "completed"
    },
    "tags": []
   },
   "outputs": [],
   "source": [
    "tokenizer = AutoTokenizer.from_pretrained(MODEL)"
   ]
  },
  {
   "cell_type": "code",
   "execution_count": 9,
   "id": "9e4a76cc",
   "metadata": {
    "execution": {
     "iopub.execute_input": "2024-04-22T17:52:13.703202Z",
     "iopub.status.busy": "2024-04-22T17:52:13.702887Z",
     "iopub.status.idle": "2024-04-22T17:52:18.370695Z",
     "shell.execute_reply": "2024-04-22T17:52:18.369500Z"
    },
    "papermill": {
     "duration": 4.675597,
     "end_time": "2024-04-22T17:52:18.373482",
     "exception": false,
     "start_time": "2024-04-22T17:52:13.697885",
     "status": "completed"
    },
    "tags": []
   },
   "outputs": [],
   "source": [
    "model = AutoModelForTokenClassification.from_pretrained('/kaggle/input/roberta-base-g7/transformers/roberta-g7/1')"
   ]
  },
  {
   "cell_type": "code",
   "execution_count": 10,
   "id": "9bca71ef",
   "metadata": {
    "execution": {
     "iopub.execute_input": "2024-04-22T17:52:18.384099Z",
     "iopub.status.busy": "2024-04-22T17:52:18.383765Z",
     "iopub.status.idle": "2024-04-22T17:52:19.940417Z",
     "shell.execute_reply": "2024-04-22T17:52:19.939410Z"
    },
    "papermill": {
     "duration": 1.565013,
     "end_time": "2024-04-22T17:52:19.942873",
     "exception": false,
     "start_time": "2024-04-22T17:52:18.377860",
     "status": "completed"
    },
    "tags": []
   },
   "outputs": [],
   "source": [
    "\n",
    "def tokenize_test_data(example):\n",
    "    tokenized_inputs = tokenizer(\n",
    "        example[\"tokens\"], \n",
    "        padding='max_length',  # Pad to maximum length\n",
    "        truncation=True, \n",
    "        is_split_into_words=True, \n",
    "        max_length=MAXLEN,\n",
    "        return_tensors=\"pt\"  # Ensure the output is PyTorch tensors\n",
    "    )\n",
    "    return tokenized_inputs\n",
    "\n",
    "# Assuming df_test contains your test data\n",
    "# Tokenize test data\n",
    "tokenized_test = []\n",
    "for i in range(len(df_test)):\n",
    "    tokenized_example = tokenize_test_data(df_test.iloc[i])\n",
    "    tokenized_test.append(tokenized_example)\n",
    "\n",
    "# Make predictions\n",
    "device = torch.device(\"cuda\" if torch.cuda.is_available() else \"cpu\")  # Use GPU if available\n",
    "model.to(device)  # Move model to the appropriate device\n",
    "\n",
    "# Place model in evaluation mode\n",
    "model.eval()\n",
    "\n",
    "# Define label list\n",
    "label_list = ['O',\n",
    "              'B-NAME_STUDENT',\n",
    "              'I-NAME_STUDENT',\n",
    "              'B-EMAIL',\n",
    "              'I-EMAIL',\n",
    "              'B-USERNAME',\n",
    "              'I-USERNAME',\n",
    "              'B-ID_NUM',\n",
    "              'I-ID_NUM',\n",
    "              'B-PHONE_NUM',\n",
    "              'I-PHONE_NUM',\n",
    "              'B-URL_PERSONAL',\n",
    "              'I-URL_PERSONAL',\n",
    "              'B-STREET_ADDRESS',\n",
    "              'I-STREET_ADDRESS']\n",
    "\n",
    "# Initialize list to store predictions\n",
    "predictions = []\n",
    "\n",
    "# Iterate over tokenized test data\n",
    "for example in tokenized_test:\n",
    "    inputs = {key: value.to(device) for key, value in example.items()}\n",
    "    with torch.no_grad():  # No need to compute gradients during inference\n",
    "        output = model(**inputs)\n",
    "    \n",
    "    # Get predicted labels from logits\n",
    "    predicted_labels = output.logits.argmax(dim=-1).cpu().numpy()\n",
    "    \n",
    "    # Append predicted labels to predictions list\n",
    "    predictions.append(predicted_labels)\n",
    "\n",
    "# Convert predictions to numpy array\n",
    "predictions = np.concatenate(predictions)\n",
    "\n",
    "# Post-processing: Extract relevant information and format as desired\n",
    "predicted_df = pd.DataFrame(columns=['row_id', 'document', 'token', 'label'])\n",
    "row_id = 0\n",
    "\n",
    "# Iterate over each example in the test dataset\n",
    "for i, example_labels in enumerate(predictions):\n",
    "    # Iterate over tokens in the example\n",
    "    for j, label_id in enumerate(example_labels):\n",
    "        # Only include positive PII label values (excluding O)\n",
    "        if label_list[label_id] != 'O':\n",
    "            predicted_df.loc[row_id] = [row_id, df_test['document'][i], j, label_list[label_id]]\n",
    "            row_id += 1\n",
    "\n",
    "# Save predictions to file\n",
    "predicted_df.to_csv('submission.csv', index=False)"
   ]
  },
  {
   "cell_type": "code",
   "execution_count": null,
   "id": "3a8eb8de",
   "metadata": {
    "papermill": {
     "duration": 0.003953,
     "end_time": "2024-04-22T17:52:19.951238",
     "exception": false,
     "start_time": "2024-04-22T17:52:19.947285",
     "status": "completed"
    },
    "tags": []
   },
   "outputs": [],
   "source": []
  }
 ],
 "metadata": {
  "kaggle": {
   "accelerator": "nvidiaTeslaT4",
   "dataSources": [
    {
     "databundleVersionId": 7500999,
     "sourceId": 66653,
     "sourceType": "competition"
    },
    {
     "modelInstanceId": 30542,
     "sourceId": 36250,
     "sourceType": "modelInstanceVersion"
    }
   ],
   "dockerImageVersionId": 30698,
   "isGpuEnabled": true,
   "isInternetEnabled": false,
   "language": "python",
   "sourceType": "notebook"
  },
  "kernelspec": {
   "display_name": "Python 3",
   "language": "python",
   "name": "python3"
  },
  "language_info": {
   "codemirror_mode": {
    "name": "ipython",
    "version": 3
   },
   "file_extension": ".py",
   "mimetype": "text/x-python",
   "name": "python",
   "nbconvert_exporter": "python",
   "pygments_lexer": "ipython3",
   "version": "3.10.13"
  },
  "papermill": {
   "default_parameters": {},
   "duration": 28.046514,
   "end_time": "2024-04-22T17:52:22.290311",
   "environment_variables": {},
   "exception": null,
   "input_path": "__notebook__.ipynb",
   "output_path": "__notebook__.ipynb",
   "parameters": {},
   "start_time": "2024-04-22T17:51:54.243797",
   "version": "2.5.0"
  }
 },
 "nbformat": 4,
 "nbformat_minor": 5
}
